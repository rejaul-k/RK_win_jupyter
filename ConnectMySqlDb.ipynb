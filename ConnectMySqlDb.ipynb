{
 "cells": [
  {
   "cell_type": "code",
   "execution_count": 1,
   "metadata": {},
   "outputs": [],
   "source": [
    "                    #Working with MySQL and Python via Anaconda\n",
    "#Install Anaconda:    \n",
    "#Open anaconda prompt\n",
    "#conda.exe install mysql-python(optional if not work) \n",
    "#pip install mysql-connector-python\n"
   ]
  },
  {
   "cell_type": "code",
   "execution_count": 6,
   "metadata": {},
   "outputs": [],
   "source": [
    "import mysql.connector as mdb"
   ]
  },
  {
   "cell_type": "code",
   "execution_count": 7,
   "metadata": {},
   "outputs": [],
   "source": [
    "cnn = mdb.connect(\n",
    "        user='root',\n",
    "        password='Sdlab@jp14',\n",
    "        host='localhost',\n",
    "        database='dse_repository')"
   ]
  },
  {
   "cell_type": "code",
   "execution_count": 8,
   "metadata": {
    "scrolled": false
   },
   "outputs": [
    {
     "name": "stdout",
     "output_type": "stream",
     "text": [
      "ACTIVEFINE\n",
      "RENATA\n"
     ]
    }
   ],
   "source": [
    "cursor=cnn.cursor(buffered=True)\n",
    "cursor.execute(\"select * from day_end_transaction where Trading_Code in ('ACTIVEFINE','RENATA') and Trans_Date='2017-09-06'\")\n",
    "for row in cursor.fetchall():\n",
    "    print(row[1])\n",
    "cnn.close()"
   ]
  }
 ],
 "metadata": {
  "kernelspec": {
   "display_name": "Python 3",
   "language": "python",
   "name": "python3"
  },
  "language_info": {
   "codemirror_mode": {
    "name": "ipython",
    "version": 3
   },
   "file_extension": ".py",
   "mimetype": "text/x-python",
   "name": "python",
   "nbconvert_exporter": "python",
   "pygments_lexer": "ipython3",
   "version": "3.7.3"
  }
 },
 "nbformat": 4,
 "nbformat_minor": 2
}
